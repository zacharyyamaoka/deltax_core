{
 "cells": [
  {
   "cell_type": "code",
   "execution_count": 2,
   "metadata": {},
   "outputs": [],
   "source": [
    "from tf_transformations import quaternion_from_euler, euler_from_quaternion, quaternion_matrix, quaternion_from_matrix, quaternion_inverse, quaternion_multiply, _reorder_output_quaternion, _reorder_input_quaternion\n",
    "\n",
    "# 0.48917; -0.5106; -0.48917; 0.5106\n"
   ]
  },
  {
   "cell_type": "code",
   "execution_count": 2,
   "metadata": {},
   "outputs": [
    {
     "data": {
      "text/plain": [
       "(1.5707963267948966, -0.042863296269155166, -1.5707963267948966)"
      ]
     },
     "execution_count": 2,
     "metadata": {},
     "output_type": "execute_result"
    }
   ],
   "source": [
    "# Current URDF\n",
    "euler_from_quaternion([0.48917, -0.5106, -0.48917, 0.5106])"
   ]
  },
  {
   "cell_type": "code",
   "execution_count": null,
   "metadata": {},
   "outputs": [
    {
     "data": {
      "text/plain": [
       "(-8.601348070672383e-05, -4.534757031726326e-06, -0.01459837850031148)"
      ]
     },
     "execution_count": 5,
     "metadata": {},
     "output_type": "execute_result"
    }
   ],
   "source": [
    "#Old URDF\n",
    "print(euler_from_quaternion([-1.2407e-06, -3.586e-08, -0.0072963, 0.99997]))\n",
    "print(euler_from_quaternion([-4.3022e-05, -1.9534e-06, -0.0072991, 0.99997]))\n",
    "\n"
   ]
  },
  {
   "cell_type": "code",
   "execution_count": 4,
   "metadata": {},
   "outputs": [
    {
     "data": {
      "text/plain": [
       "1.5279330305257415"
      ]
     },
     "execution_count": 4,
     "metadata": {},
     "output_type": "execute_result"
    }
   ],
   "source": [
    "-0.042863296269155166 + 1.5707963267948966"
   ]
  },
  {
   "cell_type": "markdown",
   "metadata": {},
   "source": [
    "So the "
   ]
  },
  {
   "cell_type": "code",
   "execution_count": null,
   "metadata": {},
   "outputs": [
    {
     "data": {
      "text/plain": [
       "(-8.606999669426706e-05, -3.225086804223028e-06, -2.0170612083939415e-06)"
      ]
     },
     "execution_count": 3,
     "metadata": {},
     "output_type": "execute_result"
    }
   ],
   "source": [
    "#Ball Bot Link in Old\n",
    "# -0.033373; -0.034662; -0.80545\n",
    "euler_from_quaternion([-4.3035e-05, -1.6125e-06, -1.0086e-06, 1])\n",
    "\n",
    "#Basicly Zero\n",
    "\n"
   ]
  },
  {
   "cell_type": "code",
   "execution_count": null,
   "metadata": {},
   "outputs": [],
   "source": []
  }
 ],
 "metadata": {
  "kernelspec": {
   "display_name": "usr",
   "language": "python",
   "name": "python3"
  },
  "language_info": {
   "codemirror_mode": {
    "name": "ipython",
    "version": 3
   },
   "file_extension": ".py",
   "mimetype": "text/x-python",
   "name": "python",
   "nbconvert_exporter": "python",
   "pygments_lexer": "ipython3",
   "version": "3.10.12"
  }
 },
 "nbformat": 4,
 "nbformat_minor": 2
}
